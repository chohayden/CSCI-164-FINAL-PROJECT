{
 "cells": [
  {
   "cell_type": "code",
   "execution_count": null,
   "id": "96ea4bdb-b9f2-40f7-9a0f-5884e5bc0a94",
   "metadata": {},
   "outputs": [],
   "source": [
    "import pandas as pd\n",
    "import numpy as np\n",
    "import matplotlib.pyplot as plt\n",
    "import seaborn as sns\n",
    "from sklearn.model_selection import train_test_split, cross_val_score, GridSearchCV\n",
    "from sklearn.preprocessing import StandardScaler\n",
    "from sklearn.metrics import accuracy_score, precision_score, recall_score, f1_score, confusion_matrix, roc_curve, auc\n",
    "from sklearn.metrics import mean_squared_error, mean_absolute_error, r2_score\n",
    "from sklearn.neighbors import KNeighborsClassifier, KNeighborsRegressor\n",
    "from sklearn.neural_network import MLPClassifier, MLPRegressor\n",
    "import warnings\n",
    "warnings.filterwarnings('ignore')"
   ]
  },
  {
   "cell_type": "code",
   "execution_count": null,
   "id": "4bc69390-b08c-4a35-89c0-69b932ef1856",
   "metadata": {},
   "outputs": [],
   "source": [
    "dataframe = pandas.read_csv('winequality-red.csv', sep=';')\n",
    "dataframe\n",
    "\n",
    "# Separate features and target\n",
    "X = dataframe.drop('quality', axis=1)\n",
    "y = dataframe['quality']\n",
    "\n",
    "# Display basic information\n",
    "print(\"Dataset shape:\", X.shape)\n",
    "print(\"Target shape:\", y.shape)\n",
    "print(\"\\nFeature names:\", X.columns.tolist())\n",
    "print(\"\\nTarget name:\", 'quality')"
   ]
  },
  {
   "cell_type": "code",
   "execution_count": null,
   "id": "c317bb3d-adab-4326-9a19-977c4763b367",
   "metadata": {},
   "outputs": [],
   "source": [
    "red_wine = X\n",
    "red_wine_quality = pd.DataFrame(y, columns=['quality'])\n"
   ]
  },
  {
   "cell_type": "code",
   "execution_count": null,
   "id": "a9ec9d85-08f3-4190-b717-388408d8ea01",
   "metadata": {},
   "outputs": [],
   "source": [
    "# Display basic statistics\n",
    "print(\"Red Wine Dataset Statistics\")\n",
    "print(red_wine.describe())"
   ]
  },
  {
   "cell_type": "code",
   "execution_count": null,
   "id": "de4e86a0-adb5-4cbb-96a9-0ada57957700",
   "metadata": {},
   "outputs": [],
   "source": [
    "# Check for missing values\n",
    "print(\"\\nMissing values:\", red_wine.isnull().sum().sum())"
   ]
  },
  {
   "cell_type": "code",
   "execution_count": null,
   "id": "26e7380c-de95-4a28-b0dc-f9a1d1feefbb",
   "metadata": {},
   "outputs": [],
   "source": [
    "# Visualize distributions\n",
    "fig, axes = plt.subplots(4, 3, figsize=(15, 20))\n",
    "axes = axes.ravel()\n",
    "\n",
    "for idx, col in enumerate(red_wine.columns):\n",
    "    axes[idx].hist(red_wine[col], bins=30, edgecolor='black')\n",
    "    axes[idx].set_title(f'{col} Distribution')\n",
    "    axes[idx].set_xlabel(col)\n",
    "    axes[idx].set_ylabel('Frequency')\n",
    "\n",
    "plt.tight_layout()\n",
    "plt.show()"
   ]
  },
  {
   "cell_type": "code",
   "execution_count": null,
   "id": "2a169631-432c-4f28-a655-16452c6291e1",
   "metadata": {},
   "outputs": [],
   "source": [
    "# Target distribution\n",
    "plt.figure(figsize=(10, 6))\n",
    "red_wine_quality['quality'].value_counts().sort_index().plot(kind='bar')\n",
    "plt.title('Wine Quality Distribution')\n",
    "plt.xlabel('Quality Score')\n",
    "plt.ylabel('Count')\n",
    "plt.show()"
   ]
  },
  {
   "cell_type": "code",
   "execution_count": null,
   "id": "5301e0ef-3cb5-4ed1-814f-4ff6c1eea6e8",
   "metadata": {},
   "outputs": [],
   "source": [
    "# Correlation analysis\n",
    "plt.figure(figsize=(12, 10))\n",
    "correlation_matrix = dataframe.corr()\n",
    "sns.heatmap(correlation_matrix, annot=True, cmap='coolwarm', center=0)\n",
    "plt.title('Feature Correlation Matrix')\n",
    "plt.show()"
   ]
  },
  {
   "cell_type": "code",
   "execution_count": null,
   "id": "6df73a5b-6f01-4084-9d6d-f69ba2e74576",
   "metadata": {},
   "outputs": [],
   "source": [
    "# 2. DATA PREPROCESSING\n",
    "\n",
    "# Assign numbers to the data(good vs bad wine)\n",
    "# Good wine: quality >= 6, Bad wine: quality < 6\n",
    "y_binary = (red_wine_quality['quality'] >= 6).astype(int)"
   ]
  },
  {
   "cell_type": "code",
   "execution_count": null,
   "id": "96afa2bb-7800-40d6-b076-66513c39cfa9",
   "metadata": {},
   "outputs": [],
   "source": [
    "# Split the data\n",
    "X_train, X_test, y_train, y_test = train_test_split(red_wine, y_binary, \n",
    "                                                    test_size=0.2, \n",
    "                                                    random_state=42,\n",
    "                                                    stratify=y_binary)"
   ]
  },
  {
   "cell_type": "code",
   "execution_count": null,
   "id": "3acb70e0-3e56-4670-837f-8ac84ad0bb9f",
   "metadata": {},
   "outputs": [],
   "source": [
    "# Scale features\n",
    "scaler = StandardScaler()\n",
    "X_train_scaled = scaler.fit_transform(X_train)\n",
    "X_test_scaled = scaler.transform(X_test)\n",
    "\n",
    "print(f\"Training set shape: {X_train_scaled.shape}\")\n",
    "print(f\"Test set shape: {X_test_scaled.shape}\")\n",
    "print(f\"Class distribution in training set:\\n{y_train.value_counts(normalize=True)}\")"
   ]
  },
  {
   "cell_type": "code",
   "execution_count": null,
   "id": "5b8c8fff-10f0-4bff-a315-cb6a57648170",
   "metadata": {},
   "outputs": [],
   "source": [
    "# 3. MODEL DEVELOPMENT\n",
    "\n",
    "# K-Nearest Neighbors Classifier\n",
    "\n",
    "knn_clf = KNeighborsClassifier()\n",
    "\n",
    "# Define parameter grid for KNN\n",
    "knn_param_grid = {\n",
    "    'n_neighbors': [3, 5, 7, 9, 11, 15],\n",
    "    'weights': ['uniform', 'distance'],\n",
    "    'metric': ['euclidean', 'manhattan']\n",
    "}\n",
    "# Grid search with cross-validation\n",
    "knn_grid_search = GridSearchCV(knn_clf, knn_param_grid, cv=5, \n",
    "                               scoring='f1', n_jobs=-1, verbose=1)\n",
    "knn_grid_search.fit(X_train_scaled, y_train)\n",
    "\n",
    "print(\"\\nBest KNN parameters:\", knn_grid_search.best_params_)\n",
    "print(\"Best KNN cross-validation score:\", knn_grid_search.best_score_)"
   ]
  },
  {
   "cell_type": "code",
   "execution_count": null,
   "id": "a35fe273-7be8-468b-aac4-2d6cf37f6497",
   "metadata": {},
   "outputs": [],
   "source": [
    "# Evaluate best KNN model\n",
    "best_knn = knn_grid_search.best_estimator_\n",
    "knn_pred = best_knn.predict(X_test_scaled)"
   ]
  },
  {
   "cell_type": "code",
   "execution_count": null,
   "id": "80ba44bb-4a81-43a3-8232-30064bec1048",
   "metadata": {},
   "outputs": [],
   "source": [
    "#Multi-Layer Perceptron Classifier\n",
    "\n",
    "mlp_clf = MLPClassifier(random_state=42, max_iter=1000)\n",
    "\n",
    "# Define parameter grid for MLP\n",
    "mlp_param_grid = {\n",
    "    'hidden_layer_sizes': [(50,), (100,), (50, 50), (100, 50)],\n",
    "    'activation': ['relu', 'tanh'],\n",
    "    'alpha': [0.0001, 0.001, 0.01],\n",
    "    'learning_rate': ['constant', 'adaptive']\n",
    "}"
   ]
  },
  {
   "cell_type": "code",
   "execution_count": null,
   "id": "0cf104ff-dc16-4ef5-a343-018bcef70178",
   "metadata": {},
   "outputs": [],
   "source": [
    "# Grid search with cross-validation\n",
    "mlp_grid_search = GridSearchCV(mlp_clf, mlp_param_grid, cv=5, \n",
    "                               scoring='f1', n_jobs=-1, verbose=1)\n",
    "mlp_grid_search.fit(X_train_scaled, y_train)\n",
    "\n",
    "print(\"\\nBest MLP parameters:\", mlp_grid_search.best_params_)\n",
    "print(\"Best MLP cross-validation score:\", mlp_grid_search.best_score_)\n",
    "\n",
    "# Evaluate best MLP model\n",
    "best_mlp = mlp_grid_search.best_estimator_\n",
    "mlp_pred = best_mlp.predict(X_test_scaled)"
   ]
  },
  {
   "cell_type": "code",
   "execution_count": null,
   "id": "39c6a4db-91fd-4421-b27d-5356d2eb5cd3",
   "metadata": {},
   "outputs": [],
   "source": [
    "# 4. MODEL EVALUATION\n",
    "def evaluate_classifier(y_true, y_pred, model_name):\n",
    "    \"\"\"Evaluate classifier performance with multiple metrics\"\"\"\n",
    "    print(f\"\\n=== {model_name} Evaluation ===\")\n",
    "    print(f\"Accuracy: {accuracy_score(y_true, y_pred):.4f}\")\n",
    "    print(f\"Precision: {precision_score(y_true, y_pred):.4f}\")\n",
    "    print(f\"Recall: {recall_score(y_true, y_pred):.4f}\")\n",
    "    print(f\"F1 Score: {f1_score(y_true, y_pred):.4f}\")\n",
    "     # Confusion matrix\n",
    "    cm = confusion_matrix(y_true, y_pred)\n",
    "    plt.figure(figsize=(8, 6))\n",
    "    sns.heatmap(cm, annot=True, fmt='d', cmap='Blues')\n",
    "    plt.title(f'{model_name} Confusion Matrix')\n",
    "    plt.xlabel('Predicted')\n",
    "    plt.ylabel('Actual')\n",
    "    plt.show()"
   ]
  },
  {
   "cell_type": "code",
   "execution_count": null,
   "id": "2c5f2f49-b192-482a-976e-da21897b6fa6",
   "metadata": {},
   "outputs": [],
   "source": [
    " # ROC curve\n",
    "    if hasattr(best_knn, \"predict_proba\"):\n",
    "        y_prob = best_knn.predict_proba(X_test_scaled)[:, 1]\n",
    "    else:\n",
    "        y_prob = best_knn.decision_function(X_test_scaled)\n",
    "    \n",
    "    fpr, tpr, _ = roc_curve(y_true, y_prob)\n",
    "    roc_auc = auc(fpr, tpr)\n",
    "    \n",
    "    plt.figure(figsize=(8, 6))\n",
    "    plt.plot(fpr, tpr, color='darkorange', lw=2, \n",
    "             label=f'ROC curve (AUC = {roc_auc:.2f})')\n",
    "    plt.plot([0, 1], [0, 1], color='navy', lw=2, linestyle='--')\n",
    "    plt.xlim([0.0, 1.0])\n",
    "    plt.ylim([0.0, 1.05])\n",
    "    plt.xlabel('False Positive Rate')\n",
    "    plt.ylabel('True Positive Rate')\n",
    "    plt.title(f'{model_name} ROC Curve')\n",
    "    plt.legend(loc=\"lower right\")\n",
    "    plt.show()"
   ]
  },
  {
   "cell_type": "code",
   "execution_count": null,
   "id": "65c3f222-04a7-46f2-bd5a-85d454c75fe1",
   "metadata": {},
   "outputs": [],
   "source": [
    "# Evaluate both models\n",
    "evaluate_classifier(y_test, knn_pred, \"K-Nearest Neighbors\")\n",
    "evaluate_classifier(y_test, mlp_pred, \"Multi-Layer Perceptron\")"
   ]
  },
  {
   "cell_type": "code",
   "execution_count": null,
   "id": "9f424237-b936-4c7c-8bc8-bea8aa6aba0a",
   "metadata": {},
   "outputs": [],
   "source": [
    "# 5. REGRESSION ANALYSIS\n",
    "\n",
    "# For regression, I used the actual quality scores \n",
    "y_reg = red_wine_quality['quality']\n",
    "X_train_reg, X_test_reg, y_train_reg, y_test_reg = train_test_split(\n",
    "    red_wine, y_reg, test_size=0.2, random_state=42)\n",
    "\n",
    "# Scale features\n",
    "X_train_reg_scaled = scaler.fit_transform(X_train_reg)\n",
    "X_test_reg_scaled = scaler.transform(X_test_reg)"
   ]
  },
  {
   "cell_type": "code",
   "execution_count": null,
   "id": "d211d15d-d244-478b-b05d-b084582867a5",
   "metadata": {},
   "outputs": [],
   "source": [
    "# 5.1 KNN Regressor\n",
    "\n",
    "knn_reg = KNeighborsRegressor()\n",
    "\n",
    "# Parameter grid for KNN regressor\n",
    "knn_reg_param_grid = {\n",
    "    'n_neighbors': [3, 5, 7, 9],\n",
    "    'weights': ['uniform', 'distance'],\n",
    "    'metric': ['euclidean', 'manhattan']\n",
    "}\n",
    "\n",
    "# Grid search\n",
    "knn_reg_grid = GridSearchCV(knn_reg, knn_reg_param_grid, cv=5, \n",
    "                            scoring='neg_mean_squared_error', n_jobs=-1)\n",
    "knn_reg_grid.fit(X_train_reg_scaled, y_train_reg)\n",
    "\n",
    "# Best model\n",
    "best_knn_reg = knn_reg_grid.best_estimator_\n",
    "knn_reg_pred = best_knn_reg.predict(X_test_reg_scaled)"
   ]
  },
  {
   "cell_type": "code",
   "execution_count": null,
   "id": "810a19ae-537b-45c6-9cb5-7c5bf3b4faba",
   "metadata": {},
   "outputs": [],
   "source": [
    "# 5.2 MLP Regressor\n",
    "\n",
    "\n",
    "mlp_reg = MLPRegressor(random_state=42, max_iter=1000)\n",
    "\n",
    "# Parameter grid for MLP regressor\n",
    "mlp_reg_param_grid = {\n",
    "    'hidden_layer_sizes': [(50,), (100,), (50, 50)],\n",
    "    'activation': ['relu', 'tanh'],\n",
    "    'alpha': [0.0001, 0.001, 0.01]\n",
    "}\n",
    "\n",
    "# Grid search\n",
    "mlp_reg_grid = GridSearchCV(mlp_reg, mlp_reg_param_grid, cv=5, \n",
    "                            scoring='neg_mean_squared_error', n_jobs=-1)\n",
    "mlp_reg_grid.fit(X_train_reg_scaled, y_train_reg)\n",
    "\n",
    "# Best model\n",
    "best_mlp_reg = mlp_reg_grid.best_estimator_\n",
    "mlp_reg_pred = best_mlp_reg.predict(X_test_reg_scaled)"
   ]
  },
  {
   "cell_type": "code",
   "execution_count": null,
   "id": "d0051922-1dc2-4aaf-ab09-d2742bcc7699",
   "metadata": {},
   "outputs": [],
   "source": [
    "# Evaluate regression models\n",
    "def evaluate_regressor(y_true, y_pred, model_name):\n",
    "    \"\"\"Evaluate regressor performance\"\"\"\n",
    "    print(f\"\\n=== {model_name} Regression Evaluation ===\")\n",
    "    print(f\"MSE: {mean_squared_error(y_true, y_pred):.4f}\")\n",
    "    print(f\"RMSE: {np.sqrt(mean_squared_error(y_true, y_pred)):.4f}\")\n",
    "    print(f\"MAE: {mean_absolute_error(y_true, y_pred):.4f}\")\n",
    "    print(f\"R² Score: {r2_score(y_true, y_pred):.4f}\")"
   ]
  },
  {
   "cell_type": "code",
   "execution_count": null,
   "id": "29545c90-7729-4385-82df-4a66960eb04b",
   "metadata": {},
   "outputs": [],
   "source": []
  },
  {
   "cell_type": "code",
   "execution_count": null,
   "id": "c27ad91b-2ebd-4e0f-8dcf-2e3f9912162b",
   "metadata": {},
   "outputs": [],
   "source": []
  },
  {
   "cell_type": "code",
   "execution_count": null,
   "id": "c1837ab3-286c-4d97-af19-30e0fb714403",
   "metadata": {},
   "outputs": [],
   "source": [
    "# Evaluate regression models\n",
    "evaluate_regressor(y_test_reg, knn_reg_pred, \"KNN\")\n",
    "evaluate_regressor(y_test_reg, mlp_reg_pred, \"MLP\")\n"
   ]
  },
  {
   "cell_type": "code",
   "execution_count": 128,
   "id": "dc628f59-3e08-4aa8-a0b0-a98cc855bc11",
   "metadata": {},
   "outputs": [
    {
     "data": {
      "image/png": "[encoded data removed]",
      "text/plain": [
       "<Figure size 1000x600 with 1 Axes>"
      ]
     },
     "metadata": {},
     "output_type": "display_data"
    }
   ],
   "source": [
    "# 6. Analysis of features\n",
    "\n",
    "#IF it correlates with the target \n",
    "feature_importance = pd.DataFrame({\n",
    "    'Feature': red_wine.columns,\n",
    "    'Correlation': [abs(red_wine[col].corr(red_wine_quality['quality'])) \n",
    "                   for col in red_wine.columns]\n",
    "}).sort_values('Correlation', ascending=False)\n",
    "\n",
    "plt.figure(figsize=(10, 6))\n",
    "plt.barh(feature_importance['Feature'], feature_importance['Correlation'])\n",
    "plt.xlabel('Absolute Correlation with Quality')\n",
    "plt.title('Feature Importance (Correlation)')\n",
    "plt.tight_layout()\n",
    "plt.show()"
   ]
  },
  {
   "cell_type": "code",
   "execution_count": null,
   "id": "f8bd5e4d-4601-43b6-bf84-cbb6320a9df5",
   "metadata": {},
   "outputs": [],
   "source": []
  },
  {
   "cell_type": "code",
   "execution_count": 129,
   "id": "ccf28581-d07e-4425-8fb7-acf1cf367a03",
   "metadata": {},
   "outputs": [
    {
     "ename": "NameError",
     "evalue": "name 'mlp_reg_pred' is not defined",
     "output_type": "error",
     "traceback": [
      "\u001b[31m---------------------------------------------------------------------------\u001b[39m",
      "\u001b[31mNameError\u001b[39m                                 Traceback (most recent call last)",
      "\u001b[36mCell\u001b[39m\u001b[36m \u001b[39m\u001b[32mIn[129]\u001b[39m\u001b[32m, line 11\u001b[39m\n\u001b[32m      1\u001b[39m \u001b[38;5;66;03m# 7. FINAL MODEL COMPARISON\u001b[39;00m\n\u001b[32m      2\u001b[39m \u001b[38;5;66;03m# ========================\u001b[39;00m\n\u001b[32m      4\u001b[39m results_df = pd.DataFrame({\n\u001b[32m      5\u001b[39m     \u001b[33m'\u001b[39m\u001b[33mModel\u001b[39m\u001b[33m'\u001b[39m: [\u001b[33m'\u001b[39m\u001b[33mKNN Classifier\u001b[39m\u001b[33m'\u001b[39m, \u001b[33m'\u001b[39m\u001b[33mMLP Classifier\u001b[39m\u001b[33m'\u001b[39m, \u001b[33m'\u001b[39m\u001b[33mKNN Regressor\u001b[39m\u001b[33m'\u001b[39m, \u001b[33m'\u001b[39m\u001b[33mMLP Regressor\u001b[39m\u001b[33m'\u001b[39m],\n\u001b[32m      6\u001b[39m     \u001b[33m'\u001b[39m\u001b[33mTask\u001b[39m\u001b[33m'\u001b[39m: [\u001b[33m'\u001b[39m\u001b[33mClassification\u001b[39m\u001b[33m'\u001b[39m, \u001b[33m'\u001b[39m\u001b[33mClassification\u001b[39m\u001b[33m'\u001b[39m, \u001b[33m'\u001b[39m\u001b[33mRegression\u001b[39m\u001b[33m'\u001b[39m, \u001b[33m'\u001b[39m\u001b[33mRegression\u001b[39m\u001b[33m'\u001b[39m],\n\u001b[32m      7\u001b[39m     \u001b[33m'\u001b[39m\u001b[33mPrimary Metric\u001b[39m\u001b[33m'\u001b[39m: [\n\u001b[32m      8\u001b[39m         f1_score(y_test, knn_pred),\n\u001b[32m      9\u001b[39m         f1_score(y_test, mlp_pred),\n\u001b[32m     10\u001b[39m         -mean_squared_error(y_test_reg, knn_reg_pred),\n\u001b[32m---> \u001b[39m\u001b[32m11\u001b[39m         -mean_squared_error(y_test_reg, \u001b[43mmlp_reg_pred\u001b[49m)\n\u001b[32m     12\u001b[39m     ],\n\u001b[32m     13\u001b[39m     \u001b[33m'\u001b[39m\u001b[33mBest Parameters\u001b[39m\u001b[33m'\u001b[39m: [\n\u001b[32m     14\u001b[39m         \u001b[38;5;28mstr\u001b[39m(knn_grid_search.best_params_),\n\u001b[32m     15\u001b[39m         \u001b[38;5;28mstr\u001b[39m(mlp_grid_search.best_params_),\n\u001b[32m     16\u001b[39m         \u001b[38;5;28mstr\u001b[39m(knn_reg_grid.best_params_),\n\u001b[32m     17\u001b[39m         \u001b[38;5;28mstr\u001b[39m(mlp_reg_grid.best_params_)\n\u001b[32m     18\u001b[39m     ]\n\u001b[32m     19\u001b[39m })\n\u001b[32m     21\u001b[39m \u001b[38;5;28mprint\u001b[39m(\u001b[33m\"\u001b[39m\u001b[38;5;130;01m\\n\u001b[39;00m\u001b[33m=== Final Model Comparison ===\u001b[39m\u001b[33m\"\u001b[39m)\n\u001b[32m     22\u001b[39m \u001b[38;5;28mprint\u001b[39m(results_df)\n",
      "\u001b[31mNameError\u001b[39m: name 'mlp_reg_pred' is not defined"
     ]
    }
   ],
   "source": [
    "# 7. FINAL MODEL COMPARISON\n",
    "# ========================\n",
    "\n",
    "results_df = pd.DataFrame({\n",
    "    'Model': ['KNN Classifier', 'MLP Classifier', 'KNN Regressor', 'MLP Regressor'],\n",
    "    'Task': ['Classification', 'Classification', 'Regression', 'Regression'],\n",
    "    'Primary Metric': [\n",
    "        f1_score(y_test, knn_pred),\n",
    "        f1_score(y_test, mlp_pred),\n",
    "        -mean_squared_error(y_test_reg, knn_reg_pred),\n",
    "        -mean_squared_error(y_test_reg, mlp_reg_pred)\n",
    "    ],\n",
    "    'Best Parameters': [\n",
    "        str(knn_grid_search.best_params_),\n",
    "        str(mlp_grid_search.best_params_),\n",
    "        str(knn_reg_grid.best_params_),\n",
    "        str(mlp_reg_grid.best_params_)\n",
    "    ]\n",
    "})\n",
    "\n",
    "print(\"\\n=== Final Model Comparison ===\")\n",
    "print(results_df)\n"
   ]
  },
  {
   "cell_type": "code",
   "execution_count": null,
   "id": "dc2d70bd-9ddb-4b61-b7b3-a758ebd1d6c3",
   "metadata": {},
   "outputs": [],
   "source": [
    "# Save results\n",
    "results_df.to_csv('model_comparison_results.csv', index=False)"
   ]
  },
  {
   "cell_type": "code",
   "execution_count": null,
   "id": "a66be91a-d6ce-4f88-8dbd-26e65471492d",
   "metadata": {},
   "outputs": [],
   "source": []
  },
  {
   "cell_type": "code",
   "execution_count": null,
   "id": "7e9e638a-5e9a-4ea6-b349-9b1e53ea1d27",
   "metadata": {},
   "outputs": [],
   "source": []
  }
 ],
 "metadata": {
  "kernelspec": {
   "display_name": "Python 3 (ipykernel)",
   "language": "python",
   "name": "python3"
  },
  "language_info": {
   "codemirror_mode": {
    "name": "ipython",
    "version": 3
   },
   "file_extension": ".py",
   "mimetype": "text/x-python",
   "name": "python",
   "nbconvert_exporter": "python",
   "pygments_lexer": "ipython3",
   "version": "3.13.3"
  }
 },
 "nbformat": 4,
 "nbformat_minor": 5
}
